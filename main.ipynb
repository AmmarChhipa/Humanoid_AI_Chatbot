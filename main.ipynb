{
 "cells": [
  {
   "cell_type": "code",
   "execution_count": null,
   "id": "c6a1bec3",
   "metadata": {
    "vscode": {
     "languageId": "plaintext"
    }
   },
   "outputs": [],
   "source": [
    "from deepface import DeepFace\n",
    "import cv2S\n",
    "\n",
    "# Start the webcam\n",
    "cap = cv2.VideoCapture(1)\n",
    "\n",
    "if not cap.isOpened():\n",
    "    print(\"Error: Could not open webcam.\")\n",
    "    exit()\n",
    "\n",
    "while True:\n",
    "    ret, frame = cap.read()\n",
    "    if not ret:\n",
    "        print(\"Error: Failed to capture frame.\")\n",
    "        break\n",
    "\n",
    "    try:\n",
    "        # Analyze the frame for emotions\n",
    "        results = DeepFace.analyze(\n",
    "            frame,\n",
    "            actions=['emotion'],\n",
    "            enforce_detection=False,  # Set to False to avoid breaking on undetected faces\n",
    "            detector_backend='opencv'  # Faster backend for real-time\n",
    "        )\n",
    "\n",
    "        if results:\n",
    "            emotion = results[0]['dominant_emotion']\n",
    "            region = results[0].get('region', {})\n",
    "            x = region.get('x', 50)\n",
    "            y = region.get('y', 50)\n",
    "            w = region.get('w', 100)\n",
    "            h = region.get('h', 100)\n",
    "\n",
    "            # Draw rectangle around face\n",
    "            cv2.rectangle(frame, (x, y), (x + w, y + h), (0, 255, 0), 2)\n",
    "\n",
    "            # Draw the emotion\n",
    "            cv2.putText(frame, f\"{emotion}\", (x, y - 10 if y - 10 > 10 else y + 10),\n",
    "                        cv2.FONT_HERSHEY_SIMPLEX, 1, (0, 255, 0), 2)\n",
    "\n",
    "    except Exception as e:\n",
    "        print(\"Warning:\", e)\n",
    "\n",
    "    # Show the live frame\n",
    "    cv2.imshow(\"Real-Time Emotion Detection\", frame)\n",
    "\n",
    "    # Break the loop with 'q'\n",
    "    if cv2.waitKey(1) & 0xFF == ord('q'):\n",
    "        break\n",
    "\n",
    "# Clean up\n",
    "cap.release()\n",
    "cv2.destroyAllWindows()\n"
   ]
  }
 ],
 "metadata": {
  "language_info": {
   "name": "python"
  }
 },
 "nbformat": 4,
 "nbformat_minor": 5
}
